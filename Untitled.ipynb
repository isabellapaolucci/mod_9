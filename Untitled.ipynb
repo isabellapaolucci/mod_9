{
 "cells": [
  {
   "cell_type": "code",
   "execution_count": 4,
   "id": "9cff0603-2119-4c73-baa1-f219638d3350",
   "metadata": {
    "tags": []
   },
   "outputs": [
    {
     "name": "stdout",
     "output_type": "stream",
     "text": [
      ".:\n",
      "total 52\n",
      "drwx--S--- 3 ctx8bn users  2048 Mar 27 19:20 booklover\n",
      "drwx--S--- 2 ctx8bn users  2048 Mar 27 19:52 Booklover.egg-info\n",
      "drwx--S--- 4 ctx8bn users  1024 Mar 27 19:52 build\n",
      "-rw------- 1 ctx8bn users 18092 Mar 26 21:56 LICENSE\n",
      "-rw------- 1 ctx8bn users    28 Mar 26 21:56 README.md\n",
      "-rw------- 1 ctx8bn users   339 Mar 27 19:48 setup.py\n",
      "-rw------- 1 ctx8bn users  2654 Mar 27 20:04 Untitled.ipynb\n",
      "\n",
      "./booklover:\n",
      "total 20\n",
      "-rw------- 1 ctx8bn users 1565 Mar 27 10:05 booklover.py\n",
      "-rw------- 1 ctx8bn users 2380 Mar 27 10:05 booklover_test.py\n",
      "-rw------- 1 ctx8bn users   42 Mar 27 10:07 __init__.py\n",
      "\n",
      "./Booklover.egg-info:\n",
      "total 16\n",
      "-rw------- 1 ctx8bn users   1 Mar 27 19:52 dependency_links.txt\n",
      "-rw------- 1 ctx8bn users 262 Mar 27 19:52 PKG-INFO\n",
      "-rw------- 1 ctx8bn users 231 Mar 27 19:52 SOURCES.txt\n",
      "-rw------- 1 ctx8bn users  10 Mar 27 19:52 top_level.txt\n",
      "\n",
      "./build:\n",
      "total 8\n",
      "drwx--S--- 2 ctx8bn users   0 Mar 27 19:52 bdist.linux-x86_64\n",
      "drwx--S--- 3 ctx8bn users 512 Mar 27 19:52 lib\n",
      "\n",
      "./build/bdist.linux-x86_64:\n",
      "total 0\n",
      "\n",
      "./build/lib:\n",
      "total 4\n",
      "drwx--S--- 2 ctx8bn users 1536 Mar 27 19:52 booklover\n",
      "\n",
      "./build/lib/booklover:\n",
      "total 20\n",
      "-rw------- 1 ctx8bn users 1565 Mar 27 10:05 booklover.py\n",
      "-rw------- 1 ctx8bn users 2380 Mar 27 10:05 booklover_test.py\n",
      "-rw------- 1 ctx8bn users   42 Mar 27 10:07 __init__.py\n"
     ]
    }
   ],
   "source": [
    "!ls -lR"
   ]
  },
  {
   "cell_type": "code",
   "execution_count": null,
   "id": "df848ae4-e223-4066-963c-dc1ec452737a",
   "metadata": {},
   "outputs": [],
   "source": []
  }
 ],
 "metadata": {
  "kernelspec": {
   "display_name": "Python 3 (ipykernel)",
   "language": "python",
   "name": "python3"
  },
  "language_info": {
   "codemirror_mode": {
    "name": "ipython",
    "version": 3
   },
   "file_extension": ".py",
   "mimetype": "text/x-python",
   "name": "python",
   "nbconvert_exporter": "python",
   "pygments_lexer": "ipython3",
   "version": "3.11.4"
  }
 },
 "nbformat": 4,
 "nbformat_minor": 5
}
